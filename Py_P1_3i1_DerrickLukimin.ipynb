{
  "nbformat": 4,
  "nbformat_minor": 0,
  "metadata": {
    "colab": {
      "provenance": [],
      "include_colab_link": true
    },
    "kernelspec": {
      "name": "python3",
      "display_name": "Python 3"
    }
  },
  "cells": [
    {
      "cell_type": "markdown",
      "metadata": {
        "id": "view-in-github",
        "colab_type": "text"
      },
      "source": [
        "<a href=\"https://colab.research.google.com/github/blackscreen1-dl/ctp2023/blob/main/Py_P1_3i1_DerrickLukimin.ipynb\" target=\"_parent\"><img src=\"https://colab.research.google.com/assets/colab-badge.svg\" alt=\"Open In Colab\"/></a>"
      ]
    },
    {
      "cell_type": "markdown",
      "metadata": {
        "id": "jp3BkDml8xiR"
      },
      "source": [
        "# **Python Programming Practical 1**\n",
        "\n",
        "If you do not have one already, create a [GitHub](https://github.com) account.\n",
        "\n",
        "Create a public repository ctp2023\n",
        "\n",
        "File --> Save a copy in GitHub under this repository\n",
        "\n",
        "For the following questions,\n",
        "\n",
        "*   standard input: keyboard\n",
        "*   standard output: screen\n",
        "\n"
      ]
    },
    {
      "cell_type": "markdown",
      "metadata": {
        "id": "-U8w0oQW9P_b"
      },
      "source": [
        "**Q1. (Converting Fahrenheit to Celsius)**\n",
        "\n",
        "Write a program that reads a Fahrenheit degree as a float from standard input, then converts it to Celsius and displays the result in standard output. The formula for the conversion is:\n",
        "```\n",
        "celsius = (5/9) * (fahrenheit - 32)\n",
        "```"
      ]
    },
    {
      "cell_type": "code",
      "source": [
        "#This program converts temperature from Fahrenheit to Celsius\n",
        "\n",
        "\n",
        "#Input\n",
        "temp = input(\"Input your temperature in Fahrenheit(F): \")\n",
        "\n",
        "#Calculation\n",
        "cel = (5/9)*(float(temp) - 32)\n",
        "\n",
        "#Output\n",
        "print(\"That temperature in degree Celsius is {0:.2f}.\".format(cel))\n"
      ],
      "metadata": {
        "id": "kU_Dk8XbPXEQ",
        "colab": {
          "base_uri": "https://localhost:8080/"
        },
        "outputId": "5735d258-7581-43b1-8660-f44e1fb08df5"
      },
      "execution_count": 6,
      "outputs": [
        {
          "output_type": "stream",
          "name": "stdout",
          "text": [
            "Input your temperature in Fahrenheit(F): 86\n",
            "That temperature in degree Celsius is 30.00.\n"
          ]
        }
      ]
    },
    {
      "cell_type": "markdown",
      "metadata": {
        "id": "7Ui5CuS_9Za1"
      },
      "source": [
        "**Q2. (Computing the volume of a cylinder)**\n",
        "\n",
        "Write a program that reads in the radius and length of a cylinder and computes its volume using the formulae:\n",
        "```\n",
        "area = radius * radius * pi\n",
        "volume = area * length\n",
        "```\n",
        "\n",
        "\n"
      ]
    },
    {
      "cell_type": "code",
      "source": [
        "#This program calculates the volume of a cylinder.\n",
        "import math\n",
        "\n",
        "#Input\n",
        "rad = float(input(\"Input radius in metres(m): \"))\n",
        "hei = float(input(\"Input height in metres(m): \"))\n",
        "\n",
        "#Calculation\n",
        "vol = math.pi * hei * rad**2\n",
        "\n",
        "#Output\n",
        "print(\"The volume of the cylinder is {0:.2f} metres cubed(m³).\".format(vol))"
      ],
      "metadata": {
        "id": "V2BzEPVNHsm0",
        "colab": {
          "base_uri": "https://localhost:8080/"
        },
        "outputId": "e325167d-b8cd-4247-da13-efda555c2f9a"
      },
      "execution_count": 5,
      "outputs": [
        {
          "output_type": "stream",
          "name": "stdout",
          "text": [
            "Input radius in metres(m): 2\n",
            "Input height in metres(m): 3\n",
            "The volume of the cylinder is 37.70 metres cubed(m³).\n"
          ]
        }
      ]
    },
    {
      "cell_type": "markdown",
      "metadata": {
        "id": "aVhHiT8w9c7d"
      },
      "source": [
        "**Q3. (Converting miles into kilometers)**\n",
        "\n",
        "Write a program that reads a number in miles, converts it to kilometres, and outputs the result. One mile is 1.60934 kilometres. Display your answer correct to 3 decimal places."
      ]
    },
    {
      "cell_type": "code",
      "source": [
        "#This program converts distance from miles into kilometers.\n",
        "\n",
        "#Input\n",
        "mil = float(input(\"Input distance in miles: \"))\n",
        "\n",
        "#Calculation\n",
        "km = mil * 1.60934\n",
        "\n",
        "#Output\n",
        "print(\"That distance is {0:.3f} in km.\".format(km))"
      ],
      "metadata": {
        "colab": {
          "base_uri": "https://localhost:8080/"
        },
        "id": "QyFcabYOkPTi",
        "outputId": "0af78c8d-ca8c-4fe1-cf44-07996d9d9a25"
      },
      "execution_count": null,
      "outputs": [
        {
          "output_type": "stream",
          "name": "stdout",
          "text": [
            "Input distance in miles: 1.5\n",
            "That distance is 2.414 in km.\n"
          ]
        }
      ]
    },
    {
      "cell_type": "markdown",
      "metadata": {
        "id": "GwAIqQNY9gFd"
      },
      "source": [
        "**Q4. (Summing the digits in an integer)**\n",
        "\n",
        "Write a program that reads an integer between 0 and 1000 and adds all the digits in the integer. For example, if an integer is 932, the sum of all its digits is 14.\n",
        "\n",
        "Hint: Use the % operator to extract digits, and use the // operator to remove the extracted digit. For instance, 932 % 10 = 2 and 932 // 10 = 93"
      ]
    },
    {
      "cell_type": "code",
      "source": [
        "#This program sums the digits of an integer.\n",
        "\n",
        "#Input\n",
        "num = int(input(\"Input your number: \"))\n",
        "\n",
        "#Calculation\n",
        "sum = 0\n",
        "while num > 0:\n",
        "  sum += num%10\n",
        "  num //= 10\n",
        "\n",
        "#Output\n",
        "print(\"The sum of the digits in that number is {0}.\".format(sum))"
      ],
      "metadata": {
        "colab": {
          "base_uri": "https://localhost:8080/"
        },
        "id": "S0JlMQuOk6ti",
        "outputId": "24826b54-4109-4505-c513-07e5689c884c"
      },
      "execution_count": 8,
      "outputs": [
        {
          "output_type": "stream",
          "name": "stdout",
          "text": [
            "Input your number: 932\n",
            "The sum of the digits in that number is 14.\n"
          ]
        }
      ]
    },
    {
      "cell_type": "markdown",
      "metadata": {
        "id": "lE0ScX9e9kcg"
      },
      "source": [
        "**Q5. (Converting an uppercase letter to lowercase)**\n",
        "\n",
        "Write a program that converts an uppercase letter from standard input to a lowercase letter by making use of its ASCII value.\n",
        "\n",
        "http://www.asciitable.com"
      ]
    },
    {
      "cell_type": "code",
      "source": [
        "#This program converts an uppercase letter to lowercase.\n",
        "\n",
        "#Input\n",
        "upp = input(\"Enter your uppercase character: \")\n",
        "\n",
        "#Calculation\n",
        "low = chr(ord(upp) + 32)\n",
        "\n",
        "#Output\n",
        "print(\"The lowercase character is {0}.\".format(low))"
      ],
      "metadata": {
        "colab": {
          "base_uri": "https://localhost:8080/"
        },
        "id": "KeUpLEslxOs_",
        "outputId": "babb17ee-f54e-40fb-dbb7-4f3aa61a3b3e"
      },
      "execution_count": null,
      "outputs": [
        {
          "output_type": "stream",
          "name": "stdout",
          "text": [
            "Enter your uppercase character: U\n",
            "The lowercase character is u.\n"
          ]
        }
      ]
    },
    {
      "cell_type": "markdown",
      "metadata": {
        "id": "KSviQY0T9m7Q"
      },
      "source": [
        "**Q6. (Finding the character of an ASCII code)**\n",
        "\n",
        "Write a program that receives an ASCII value (an integer between 0 and 127) and displays its character. For example, if the user enters 97, the program displays character a.\n",
        "\n",
        "http://www.asciitable.com"
      ]
    },
    {
      "cell_type": "code",
      "source": [
        "#This program gets a character from its ascii value.\n",
        "\n",
        "#Input\n",
        "char = int(input(\"Enter your number: \"))\n",
        "\n",
        "#Calculation\n",
        "ascii = chr(char)\n",
        "\n",
        "#Output\n",
        "print(\"The character is {0}.\".format(ascii))"
      ],
      "metadata": {
        "id": "4A5aqwO9yG6D",
        "colab": {
          "base_uri": "https://localhost:8080/"
        },
        "outputId": "2e6528af-e7b8-4b39-873a-0a056a5c8b3c"
      },
      "execution_count": 3,
      "outputs": [
        {
          "output_type": "stream",
          "name": "stdout",
          "text": [
            "Enter your number: 97\n",
            "The character is a.\n"
          ]
        }
      ]
    },
    {
      "cell_type": "markdown",
      "metadata": {
        "id": "V9Z95nlg97e4"
      },
      "source": [
        "**Q7. (Payroll)**\n",
        "\n",
        "Write a program that reads in the following information and prints a payroll statement. A sample input and output session is as follows:\n",
        "\n",
        "Sample input:\n",
        "```\n",
        "Enter name: Lim Ah Seng\n",
        "Enter number of hours worked weekly: 10\n",
        "Enter hourly pay rate: 6.75\n",
        "Enter CPF contribution rate(%): 20\n",
        "```\n",
        "\n",
        "Sample output:\n",
        "```\n",
        "Payroll statement for Lim Ah Seng\n",
        "Number of hours worked in week: 10\n",
        "Hourly pay rate: $6.75\n",
        "Gross pay = $67.50\n",
        "CPF contribution at 20% = $13.50\n",
        "Net pay = $54.00\n",
        "```\n",
        "\n"
      ]
    },
    {
      "cell_type": "code",
      "source": [
        "#This program prints a payroll statement.\n",
        "\n",
        "#Input\n",
        "name = input(\"Enter name: \")\n",
        "hours = int(input(\"Enter number of hours worked weekly: \"))\n",
        "pay = float(input(\"Enter hourly pay rate: \"))\n",
        "cpf = int(input(\"Enter CPF contribution rate(%): \"))\n",
        "\n",
        "#Calculations\n",
        "gross_pay = pay * hours\n",
        "cpf_cont = gross_pay * cpf / 100\n",
        "net = gross_pay - cpf_cont\n",
        "\n",
        "#Output\n",
        "print(\"\"\"Payroll statement for {0}\n",
        "Number of hours worked in week: {1}\n",
        "Hourly pay rate: ${2:.2f}\n",
        "Gross pay = ${3:.2f}\n",
        "CPF contribution at {4}% = ${5:.2f}\n",
        "Net pay = ${6:.2f}\"\"\".format(name, hours, pay, gross_pay, cpf, cpf_cont, net))"
      ],
      "metadata": {
        "colab": {
          "base_uri": "https://localhost:8080/"
        },
        "id": "Jrfha7tVyTbQ",
        "outputId": "9aba54a6-ddea-421c-862e-b2b89dca8d47"
      },
      "execution_count": 9,
      "outputs": [
        {
          "output_type": "stream",
          "name": "stdout",
          "text": [
            "Enter name: Lim Ah Seng\n",
            "Enter number of hours worked weekly: 10\n",
            "Enter hourly pay rate: 6.75\n",
            "Enter CPF contribution rate(%): 20\n",
            "Payroll statement for Lim Ah Seng\n",
            "Number of hours worked in week: 10\n",
            "Hourly pay rate: $6.75\n",
            "Gross pay = $67.50\n",
            "CPF contribution at 20% = $13.50\n",
            "Net pay = $54.00\n"
          ]
        }
      ]
    }
  ]
}